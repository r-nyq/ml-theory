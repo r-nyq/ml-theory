{
 "cells": [
  {
   "cell_type": "markdown",
   "id": "7dc8af1a",
   "metadata": {},
   "source": [
    "# Uppgift 1\n",
    "Lös ekvationssystemet\n",
    "\n",
    "x - 2 y + 2 z = 3 <br>\n",
    "-x + y + z = 4 <br>\n",
    "2 x + 2 y - 3 z = -3 <br>\n"
   ]
  },
  {
   "cell_type": "code",
   "execution_count": null,
   "id": "a2e93943",
   "metadata": {},
   "outputs": [],
   "source": []
  },
  {
   "cell_type": "markdown",
   "id": "169838df",
   "metadata": {},
   "source": [
    "# Uppgift 2\n",
    "\n",
    "Addera sträckor\n",
    "\n",
    "G:\n",
    "\n",
    "Vi har följande punkter. <br>\n",
    "P = [0,0] <br>\n",
    "Q = [2,3] <br>\n",
    "R = [8,8] <br>\n",
    "\n",
    "Rita ut sträckan P till Q plus sträcka Q till R\n",
    "\n",
    "VG:\n",
    "\n",
    "Skapa en funktion som kan ta emot godtyckligt antal sträckor (i två dimensioner) och rita ut dem.\n"
   ]
  },
  {
   "cell_type": "code",
   "execution_count": null,
   "id": "3f6336b4",
   "metadata": {},
   "outputs": [],
   "source": []
  },
  {
   "cell_type": "markdown",
   "id": "5f9c19db",
   "metadata": {},
   "source": [
    "# Uppgift 3\n",
    "\n",
    "Addera vektorer\n",
    "\n",
    "Vi har vektorerna **u**  = (1,2,3), **v** = (2,2,2), **w** = (1,0,1,0,1) och **x** = (5,6,6,5,9)\n",
    "\n",
    "G:\n",
    "\n",
    "Beräkna  **u** + **v** och **w** + **x**\n",
    "\n",
    "VG:\n",
    "\n",
    "Skapa en funktion som kan ta en godtycklig mängd vektorer i godtycklig dimension och addera dem."
   ]
  },
  {
   "cell_type": "code",
   "execution_count": null,
   "id": "0ca51f88",
   "metadata": {},
   "outputs": [],
   "source": []
  },
  {
   "cell_type": "markdown",
   "id": "60ab81e2",
   "metadata": {},
   "source": [
    "# Uppgift 4\n",
    "\n",
    "Beräkna skalärprodukten\n",
    "\n",
    "Vi har vektorerna **u** = (0,2,3) och **v** = (0,4,6) som är parallella.\n",
    "\n",
    "G:\n",
    "\n",
    "Beräkna skalärprodukten av **u** och **v**\n",
    "\n",
    "VG:\n",
    "\n",
    "Skapa en funktion som beräknar skalärprodukten av två vektorer i godtycklig dimension som även tar hänsyn till vinkeln mellan vektorerna.\n",
    "Tips: Python har ett standardbibliotek *math* som har en funktion *cos* som kan användas här. Tänk på om vinkeln är i grader eller radianer."
   ]
  },
  {
   "cell_type": "code",
   "execution_count": null,
   "id": "975a6aa1",
   "metadata": {},
   "outputs": [],
   "source": []
  },
  {
   "cell_type": "markdown",
   "id": "160f109b",
   "metadata": {},
   "source": [
    "# Uppgift 5\n",
    "\n",
    "Matrisaddition\n",
    "\n",
    "Vi har matriserna\n",
    "\n",
    "A\n",
    "\n",
    "$$\\begin{bmatrix} 1 & 2 \\\\ 3 & 2 \\end{bmatrix}$$\n",
    "\n",
    "B\n",
    "\n",
    "$$\\begin{bmatrix} 4 & 5 \\\\ 6 & 5 \\end{bmatrix}$$\n",
    "\n",
    "\n",
    "G:\n",
    "\n",
    "Beräkna A + B\n",
    "\n",
    "VG:\n",
    "\n",
    "Skapa en funktion som kan ta 2 matriser av godtycklig typ och addera.\n",
    "Tänk på att det inte alltid går att addera två matriser.\n"
   ]
  },
  {
   "cell_type": "code",
   "execution_count": null,
   "id": "37ca32d3",
   "metadata": {},
   "outputs": [],
   "source": []
  },
  {
   "cell_type": "markdown",
   "id": "ba16e9de",
   "metadata": {},
   "source": [
    "# Uppgift 6\n",
    "\n",
    "Matrismultiplikation\n",
    "\n",
    "Vi har matriserna\n",
    "\n",
    "A\n",
    "\n",
    "$$\\begin{bmatrix} 1 & 2 \\\\ 3 & 2 \\\\ 1 & 3 \\end{bmatrix}$$\n",
    "\n",
    "B\n",
    "\n",
    "$$\\begin{bmatrix} 4 & 5 & 6 \\\\ 6 & 5 & 4 \\end{bmatrix}$$\n",
    "\n",
    "\n",
    "G:\n",
    "\n",
    "Vad blir AB? <br>\n",
    "Samt skriv ut typen på matrisen AB.\n",
    "\n",
    "VG:\n",
    "\n",
    "Skapa en funktion som multiplicerar två st godtyckliga matriser. <br>\n",
    "Skriv ut typen på den multiplicerade matrisen eller om det inte går att multiplicera matriserna."
   ]
  },
  {
   "cell_type": "code",
   "execution_count": null,
   "id": "dbc2598b",
   "metadata": {},
   "outputs": [],
   "source": []
  }
 ],
 "metadata": {
  "kernelspec": {
   "display_name": "ml-theory-env",
   "language": "python",
   "name": "ml-theory-env"
  },
  "language_info": {
   "codemirror_mode": {
    "name": "ipython",
    "version": 3
   },
   "file_extension": ".py",
   "mimetype": "text/x-python",
   "name": "python",
   "nbconvert_exporter": "python",
   "pygments_lexer": "ipython3",
   "version": "3.8.10"
  }
 },
 "nbformat": 4,
 "nbformat_minor": 5
}
